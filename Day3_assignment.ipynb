{
 "cells": [
  {
   "cell_type": "code",
   "execution_count": 1,
   "id": "fe7bf16e-ef8f-4b78-8fb7-240ad6665718",
   "metadata": {},
   "outputs": [
    {
     "name": "stdout",
     "output_type": "stream",
     "text": [
      "[2, 3]\n"
     ]
    }
   ],
   "source": [
    "#Write a function to return a list with all the duplicate elements from the list\n",
    "def find_duplicates(input_list):\n",
    "    seen = set()\n",
    "    duplicates = set()\n",
    "    \n",
    "    for item in input_list:\n",
    "        if item in seen:\n",
    "            duplicates.add(item)\n",
    "        else:\n",
    "            seen.add(item)\n",
    "    \n",
    "    return list(duplicates)"
   ]
  },
  {
   "cell_type": "code",
   "execution_count": 2,
   "id": "b3220da5-48cd-402f-8c49-960206ff4dbc",
   "metadata": {},
   "outputs": [
    {
     "name": "stdout",
     "output_type": "stream",
     "text": [
      "[2, 3]\n"
     ]
    }
   ],
   "source": [
    "input_list = [1, 2, 3, 4, 2, 5, 6, 3, 3]\n",
    "duplicates = find_duplicates(input_list)\n",
    "print(duplicates)"
   ]
  },
  {
   "cell_type": "code",
   "execution_count": 10,
   "id": "52d828f5-ed7a-4de7-b8cc-91ced1751851",
   "metadata": {},
   "outputs": [],
   "source": [
    "#Write a function to return a list with all the unique elements from the list\n",
    "def find_unique_elements(input_list):\n",
    "\n",
    "    element_counts = {}\n",
    "    \n",
    "    for item in input_list:\n",
    "        element_counts[item] = element_counts.get(item, 0) + 1\n",
    "    \n",
    "    unique_elements = [item for item, count in element_counts.items() if count == 1]\n",
    "    \n",
    "    return unique_elements\n"
   ]
  },
  {
   "cell_type": "code",
   "execution_count": 11,
   "id": "fccc3964-60f8-4f21-a907-879d33bc4ef6",
   "metadata": {},
   "outputs": [
    {
     "name": "stdout",
     "output_type": "stream",
     "text": [
      "[1, 4, 5, 6]\n"
     ]
    }
   ],
   "source": [
    "input_list = [1, 2, 3, 4, 2, 5, 6, 3, 3]\n",
    "unique_elements = find_unique_elements(input_list)\n",
    "print(unique_elements)  "
   ]
  },
  {
   "cell_type": "code",
   "execution_count": 13,
   "id": "ffa560cf-0ab1-4214-a389-ed2646202e0b",
   "metadata": {},
   "outputs": [],
   "source": [
    "#Write a Python program to find the sum of all elements in the list and print\n",
    "def sum_of_elements(input_list):\n",
    "    \"\"\"\n",
    "    Calculates the sum of all elements in the input list.\n",
    "\n",
    "    :param input_list: List of numerical elements\n",
    "    :return: Sum of elements\n",
    "    \"\"\"\n",
    "    return sum(input_list)\n",
    "    \n"
   ]
  },
  {
   "cell_type": "code",
   "execution_count": 14,
   "id": "93fb799e-0841-4fc9-8903-44bde8beadea",
   "metadata": {},
   "outputs": [
    {
     "name": "stdout",
     "output_type": "stream",
     "text": [
      "The sum of all elements in the list is: 15\n"
     ]
    }
   ],
   "source": [
    "input_list = [1, 2, 3, 4, 5]\n",
    "total_sum = sum_of_elements(input_list)\n",
    "print(f\"The sum of all elements in the list is: {total_sum}\")"
   ]
  },
  {
   "cell_type": "code",
   "execution_count": 18,
   "id": "3b86e916-7fec-42c5-b637-50dccd33e0c1",
   "metadata": {},
   "outputs": [],
   "source": [
    "#Write a program to find the largest number in the list and return.\n",
    "def find_largest_number(input_list):\n",
    "\n",
    "    if not input_list:\n",
    "        raise ValueError(\"The list is empty. Cannot find the largest number.\")\n",
    "    \n",
    "    largest_number = input_list[0]\n",
    "    for num in input_list:\n",
    "        if num > largest_number:\n",
    "            largest_number = num\n",
    "    \n",
    "    return largest_number"
   ]
  },
  {
   "cell_type": "code",
   "execution_count": 19,
   "id": "8d9cf17b-e25d-4386-9375-0a1f56379761",
   "metadata": {},
   "outputs": [
    {
     "name": "stdout",
     "output_type": "stream",
     "text": [
      "The largest number in the list is: 99\n"
     ]
    }
   ],
   "source": [
    "input_list = [10, 45, 32, 67, 2, 99, 23]\n",
    "largest = find_largest_number(input_list)\n",
    "print(f\"The largest number in the list is: {largest}\")"
   ]
  },
  {
   "cell_type": "code",
   "execution_count": 21,
   "id": "e692715a-5321-41dd-923a-2cfe0306d735",
   "metadata": {},
   "outputs": [],
   "source": [
    "#Remove Duplicates from a List and return the list\n",
    "def remove_duplicates(input_list):\n",
    "    \n",
    "    return list(set(input_list))"
   ]
  },
  {
   "cell_type": "code",
   "execution_count": 22,
   "id": "c2fa010d-cc66-4468-bfe3-bf67fbe31919",
   "metadata": {},
   "outputs": [
    {
     "name": "stdout",
     "output_type": "stream",
     "text": [
      "List after removing duplicates: [1, 2, 3, 4, 5, 6]\n"
     ]
    }
   ],
   "source": [
    "input_list = [1, 2, 2, 3, 4, 4, 5, 6, 6]\n",
    "unique_list = remove_duplicates(input_list)\n",
    "print(f\"List after removing duplicates: {unique_list}\")"
   ]
  },
  {
   "cell_type": "code",
   "execution_count": 24,
   "id": "99ffe990-66fe-4ecb-99cb-59935ac18223",
   "metadata": {},
   "outputs": [],
   "source": [
    "#Find the Second Largest Element and print.\n",
    "\n",
    "def find_second_largest(input_list):\n",
    "   \n",
    "    if len(input_list) < 2:\n",
    "        raise ValueError(\"The list must have at least two unique elements.\")\n",
    "\n",
    "    # Remove duplicates to handle cases with repeated values\n",
    "    unique_numbers = list(set(input_list))\n",
    "\n",
    "    if len(unique_numbers) < 2:\n",
    "        raise ValueError(\"The list must have at least two unique elements.\")\n",
    "\n",
    "    # Sort the list in descending order\n",
    "    unique_numbers.sort(reverse=True)\n",
    "\n",
    "    return unique_numbers[1]\n"
   ]
  },
  {
   "cell_type": "code",
   "execution_count": 25,
   "id": "1c55b4d5-5b44-4eb5-bde9-0bf38df2ba60",
   "metadata": {},
   "outputs": [
    {
     "name": "stdout",
     "output_type": "stream",
     "text": [
      "The second largest number in the list is: 45\n"
     ]
    }
   ],
   "source": [
    "input_list = [10, 20, 4, 45, 99, 45, 20]\n",
    "try:\n",
    "    second_largest = find_second_largest(input_list)\n",
    "    print(f\"The second largest number in the list is: {second_largest}\")\n",
    "except ValueError as e:\n",
    "    print(e)"
   ]
  },
  {
   "cell_type": "code",
   "execution_count": null,
   "id": "fc0a9e4d-6004-4e80-9877-b133eb1360b0",
   "metadata": {},
   "outputs": [],
   "source": []
  }
 ],
 "metadata": {
  "kernelspec": {
   "display_name": "Python 3 (ipykernel)",
   "language": "python",
   "name": "python3"
  },
  "language_info": {
   "codemirror_mode": {
    "name": "ipython",
    "version": 3
   },
   "file_extension": ".py",
   "mimetype": "text/x-python",
   "name": "python",
   "nbconvert_exporter": "python",
   "pygments_lexer": "ipython3",
   "version": "3.13.1"
  }
 },
 "nbformat": 4,
 "nbformat_minor": 5
}
